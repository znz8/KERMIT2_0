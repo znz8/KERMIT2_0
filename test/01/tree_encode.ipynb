{
 "cells": [
  {
   "cell_type": "code",
   "execution_count": 1,
   "metadata": {
    "collapsed": true
   },
   "outputs": [],
   "source": [
    "import pandas as pd\n",
    "import numpy as np\n",
    "from kerMIT.tree import Tree\n",
    "from stanfordcorenlp import StanfordCoreNLP\n",
    "import ast\n",
    "import time"
   ]
  },
  {
   "cell_type": "code",
   "execution_count": 2,
   "outputs": [],
   "source": [
    "from nltk import tree"
   ],
   "metadata": {
    "collapsed": false
   }
  },
  {
   "cell_type": "code",
   "execution_count": 3,
   "outputs": [],
   "source": [
    "nlp = StanfordCoreNLP('/stanford-corenlp-full-2018-10-05')"
   ],
   "metadata": {
    "collapsed": false
   }
  },
  {
   "cell_type": "code",
   "execution_count": 4,
   "outputs": [],
   "source": [
    "def parse(text, nlp=None, **kwargs):\n",
    "    if nlp is None:\n",
    "        nlp = StanfordCoreNLP(r'./stanford-corenlp-full-2018-10-05')\n",
    "\n",
    "    #text = (text.encode('ascii', 'ignore')).decode(\"utf-8\")\n",
    "    implemented_annotators = {'parse', 'depparse'}\n",
    "    if 'annotator' in kwargs and kwargs['annotator'] in implemented_annotators:\n",
    "        annotator = kwargs['annotator']\n",
    "    else:\n",
    "        annotator = 'parse'\n",
    "    try:\n",
    "        try:\n",
    "            props={'annotators': annotator,'outputFormat':'json'}\n",
    "            output = nlp.annotate(text, properties=props)\n",
    "        except Exception as e:\n",
    "            print(\"Exception during parsing!!\")\n",
    "            print(e)\n",
    "            if annotator == 'parse':\n",
    "                return \"(S)\"\n",
    "            elif annotator == 'depparse':\n",
    "                return \"(ROOT)\"\n",
    "\n",
    "        outputD = ast.literal_eval(output)\n",
    "        sentences = outputD['sentences']\n",
    "\n",
    "        if annotator == 'parse':\n",
    "            if len(sentences) <= 1:\n",
    "                root = sentences[0]['parse'].strip('\\n')\n",
    "                root = root.split(' ',1)[1]\n",
    "                root = root[1:len(root)-1]\n",
    "            else:\n",
    "                s1 = sentences[0]['parse'].strip('\\n')\n",
    "                s1 = s1.split(' ', 1)[1]\n",
    "                s1 = s1[1:len(s1)-1]\n",
    "                root = \"(S\" + s1\n",
    "                for sentence in sentences[1:]: # not sure if there can be multiple items here. If so, it just returns the first one currently.\n",
    "                    s2 = sentence['parse'].strip('\\n')\n",
    "                    s2 = s2.split(' ', 1)[1]\n",
    "                    s2 = s2[1:len(s2)-1]\n",
    "                    root = root + s2\n",
    "                root = root + \")\"\n",
    "\n",
    "            return root.replace(\"\\n\", \"\")\n",
    "\n",
    "        if annotator == 'depparse':\n",
    "\n",
    "            trees = []\n",
    "            for i in range(len(sentences)):\n",
    "                dependencies = sentences[i]['basicDependencies']\n",
    "                [print(d) for d in dependencies]\n",
    "                inner_nodes = {d['governor'] for d in dependencies}\n",
    "                adj_matrix={\n",
    "                    node:sorted([d for d in dependencies if d['governor'] == node],\n",
    "                                key=lambda d: d['dep'])\n",
    "                    for node in inner_nodes\n",
    "                }\n",
    "                tree_str = to_str_visit(adj_matrix, 0, set())\n",
    "                trees.append(tree_str)\n",
    "\n",
    "            if len(sentences) == 1:\n",
    "                return trees[0]\n",
    "            else:\n",
    "                return \"(ROOT1 \" + \" \".join(trees) + \")\"\n",
    "\n",
    "\n",
    "    except Exception as e:\n",
    "        print(e)\n",
    "        print(\"Except\")\n",
    "        if annotator == 'parse':\n",
    "            return \"(S)\"\n",
    "        elif annotator == 'depparse':\n",
    "            return \"(ROOT)\"\n",
    "\n",
    "def to_str_visit(adj, root, visited):\n",
    "    if root in visited:\n",
    "        return \"\"\n",
    "\n",
    "    visited.add(root)\n",
    "    children = adj[root]\n",
    "\n",
    "    tree_str = \"\"\n",
    "    for child in children:\n",
    "        tree_str = tree_str + \"(\" + child['dep']\n",
    "        if child['dependent'] in adj:\n",
    "            tree_str = tree_str +\" (gloss \"+ child['dependentGloss'] + \" ) \"+ to_str_visit(adj, child['dependent'], visited) +\")\"\n",
    "        else:\n",
    "            tree_str = tree_str +\" (gloss \"+ child['dependentGloss'] +\" ))\"\n",
    "\n",
    "        visited.add(child['dependent'])\n",
    "    return tree_str"
   ],
   "metadata": {
    "collapsed": false
   }
  },
  {
   "cell_type": "code",
   "execution_count": 5,
   "outputs": [
    {
     "name": "stdout",
     "output_type": "stream",
     "text": [
      "{'dep': 'ROOT', 'governor': 0, 'governorGloss': 'ROOT', 'dependent': 6, 'dependentGloss': 'table'}\n",
      "{'dep': 'det', 'governor': 2, 'governorGloss': 'cat', 'dependent': 1, 'dependentGloss': 'The'}\n",
      "{'dep': 'nsubj', 'governor': 6, 'governorGloss': 'table', 'dependent': 2, 'dependentGloss': 'cat'}\n",
      "{'dep': 'cop', 'governor': 6, 'governorGloss': 'table', 'dependent': 3, 'dependentGloss': 'is'}\n",
      "{'dep': 'case', 'governor': 6, 'governorGloss': 'table', 'dependent': 4, 'dependentGloss': 'on'}\n",
      "{'dep': 'det', 'governor': 6, 'governorGloss': 'table', 'dependent': 5, 'dependentGloss': 'the'}\n",
      "\n",
      "(ROOT (gloss table ) (case (gloss on ))(cop (gloss is ))(det (gloss the ))(nsubj (gloss cat ) (det (gloss The ))))\n",
      "\n",
      "(gloss table )\n",
      "(case (gloss on ))\n",
      "(cop (gloss is ))\n",
      "(det (gloss the ))\n",
      "(nsubj (gloss cat ) (det (gloss The )))\n",
      "\n",
      "             ROOT                        \n",
      "   ___________|_________________          \n",
      "  |     |     |     |         nsubj      \n",
      "  |     |     |     |      _____|_____    \n",
      "  |    case  cop   det    |          det \n",
      "  |     |     |     |     |           |   \n",
      "gloss gloss gloss gloss gloss       gloss\n",
      "  |     |     |     |     |           |   \n",
      "table   on    is   the   cat         The \n",
      "\n"
     ]
    }
   ],
   "source": [
    "text = \"The cat is on the table\"\n",
    "tree_str = parse(text, nlp=nlp, annotator='depparse')\n",
    "print()\n",
    "print(tree_str)\n",
    "\n",
    "print()\n",
    "t = Tree(string=tree_str)\n",
    "for c in t.children:\n",
    "    print(c)\n",
    "\n",
    "print()\n",
    "nlt = tree.Tree.fromstring(tree_str)\n",
    "nlt.pretty_print()"
   ],
   "metadata": {
    "collapsed": false
   }
  },
  {
   "cell_type": "code",
   "execution_count": 6,
   "outputs": [
    {
     "name": "stdout",
     "output_type": "stream",
     "text": [
      "{'dep': 'ROOT', 'governor': 0, 'governorGloss': 'ROOT', 'dependent': 3, 'dependentGloss': 'sleeps'}\n",
      "{'dep': 'det', 'governor': 2, 'governorGloss': 'cat', 'dependent': 1, 'dependentGloss': 'The'}\n",
      "{'dep': 'nsubj', 'governor': 3, 'governorGloss': 'sleeps', 'dependent': 2, 'dependentGloss': 'cat'}\n",
      "{'dep': 'case', 'governor': 6, 'governorGloss': 'table', 'dependent': 4, 'dependentGloss': 'on'}\n",
      "{'dep': 'det', 'governor': 6, 'governorGloss': 'table', 'dependent': 5, 'dependentGloss': 'the'}\n",
      "{'dep': 'nmod', 'governor': 3, 'governorGloss': 'sleeps', 'dependent': 6, 'dependentGloss': 'table'}\n",
      "\n",
      "(ROOT (gloss sleeps ) (nmod (gloss table ) (case (gloss on ))(det (gloss the )))(nsubj (gloss cat ) (det (gloss The ))))\n",
      "\n",
      "(gloss sleeps )\n",
      "(nmod (gloss table ) (case (gloss on )) (det (gloss the )))\n",
      "(nsubj (gloss cat ) (det (gloss The )))\n",
      "\n",
      "              ROOT                        \n",
      "   ____________|_________________          \n",
      "  |           nmod             nsubj      \n",
      "  |       _____|_____       _____|_____    \n",
      "  |      |    case  det    |          det \n",
      "  |      |     |     |     |           |   \n",
      "gloss  gloss gloss gloss gloss       gloss\n",
      "  |      |     |     |     |           |   \n",
      "sleeps table   on   the   cat         The \n",
      "\n"
     ]
    }
   ],
   "source": [
    "text = \"The cat sleeps on the table\"\n",
    "tree_str = parse(text, nlp=nlp, annotator='depparse')\n",
    "print()\n",
    "print(tree_str)\n",
    "\n",
    "print()\n",
    "t = Tree(string=tree_str)\n",
    "for c in t.children:\n",
    "    print(c)\n",
    "\n",
    "print()\n",
    "nlt = tree.Tree.fromstring(tree_str)\n",
    "nlt.pretty_print()"
   ],
   "metadata": {
    "collapsed": false
   }
  },
  {
   "cell_type": "code",
   "execution_count": 7,
   "outputs": [
    {
     "name": "stdout",
     "output_type": "stream",
     "text": [
      "{'dep': 'ROOT', 'governor': 0, 'governorGloss': 'ROOT', 'dependent': 7, 'dependentGloss': 'moving'}\n",
      "{'dep': 'det', 'governor': 2, 'governorGloss': 'time', 'dependent': 1, 'dependentGloss': 'This'}\n",
      "{'dep': 'nmod:tmod', 'governor': 7, 'governorGloss': 'moving', 'dependent': 2, 'dependentGloss': 'time'}\n",
      "{'dep': 'advmod', 'governor': 2, 'governorGloss': 'time', 'dependent': 3, 'dependentGloss': 'around'}\n",
      "{'dep': 'punct', 'governor': 7, 'governorGloss': 'moving', 'dependent': 4, 'dependentGloss': ','}\n",
      "{'dep': 'nsubj', 'governor': 7, 'governorGloss': 'moving', 'dependent': 5, 'dependentGloss': 'they'}\n",
      "{'dep': 'aux', 'governor': 7, 'governorGloss': 'moving', 'dependent': 6, 'dependentGloss': \"'re\"}\n",
      "{'dep': 'advmod', 'governor': 9, 'governorGloss': 'faster', 'dependent': 8, 'dependentGloss': 'even'}\n",
      "{'dep': 'advmod', 'governor': 7, 'governorGloss': 'moving', 'dependent': 9, 'dependentGloss': 'faster'}\n",
      "{'dep': 'punct', 'governor': 7, 'governorGloss': 'moving', 'dependent': 10, 'dependentGloss': '.'}\n",
      "\n",
      "(ROOT (gloss moving ) (advmod (gloss faster ) (advmod (gloss even )))(aux (gloss 're ))(nmod:tmod (gloss time ) (advmod (gloss around ))(det (gloss This )))(nsubj (gloss they ))(punct (gloss , ))(punct (gloss . )))\n",
      "\n",
      "(gloss moving )\n",
      "(advmod (gloss faster ) (advmod (gloss even )))\n",
      "(aux (gloss 're ))\n",
      "(nmod:tmod (gloss time ) (advmod (gloss around )) (det (gloss This )))\n",
      "(nsubj (gloss they ))\n",
      "(punct (gloss , ))\n",
      "(punct (gloss . ))\n",
      "\n",
      "                                   ROOT                                  \n",
      "   _________________________________|_________________________________    \n",
      "  |           advmod          |         nmod:tmod         |     |     |  \n",
      "  |       ______|______       |      _______|_______      |     |     |   \n",
      "  |      |           advmod  aux    |     advmod   det  nsubj punct punct\n",
      "  |      |             |      |     |       |       |     |     |     |   \n",
      "gloss  gloss         gloss  gloss gloss   gloss   gloss gloss gloss gloss\n",
      "  |      |             |      |     |       |       |     |     |     |   \n",
      "moving faster         even   're   time   around   This  they   ,     .  \n",
      "\n"
     ]
    }
   ],
   "source": [
    "text = \"This time around, they're moving even faster.\"\n",
    "tree_str = parse(text, nlp=nlp, annotator='depparse')\n",
    "print()\n",
    "print(tree_str)\n",
    "\n",
    "print()\n",
    "t = Tree(string=tree_str)\n",
    "for c in t.children:\n",
    "    print(c)\n",
    "\n",
    "print()\n",
    "nlt = tree.Tree.fromstring(tree_str)\n",
    "nlt.pretty_print()"
   ],
   "metadata": {
    "collapsed": false
   }
  }
 ],
 "metadata": {
  "kernelspec": {
   "display_name": "Python 3",
   "language": "python",
   "name": "python3"
  },
  "language_info": {
   "codemirror_mode": {
    "name": "ipython",
    "version": 2
   },
   "file_extension": ".py",
   "mimetype": "text/x-python",
   "name": "python",
   "nbconvert_exporter": "python",
   "pygments_lexer": "ipython2",
   "version": "2.7.6"
  }
 },
 "nbformat": 4,
 "nbformat_minor": 0
}
