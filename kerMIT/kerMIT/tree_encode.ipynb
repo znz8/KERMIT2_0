{
 "cells": [
  {
   "cell_type": "code",
   "execution_count": 55,
   "metadata": {
    "collapsed": true
   },
   "outputs": [],
   "source": [
    "import pandas as pd\n",
    "import numpy as np\n",
    "from kerMIT.tree import Tree\n",
    "from stanfordcorenlp import StanfordCoreNLP\n",
    "import ast\n",
    "import time"
   ]
  },
  {
   "cell_type": "code",
   "execution_count": 56,
   "outputs": [],
   "source": [
    "from nltk import tree"
   ],
   "metadata": {
    "collapsed": false
   }
  },
  {
   "cell_type": "code",
   "execution_count": 57,
   "outputs": [],
   "source": [
    "nlp = StanfordCoreNLP('/stanford-corenlp-full-2018-10-05')"
   ],
   "metadata": {
    "collapsed": false
   }
  },
  {
   "cell_type": "code",
   "execution_count": 62,
   "outputs": [],
   "source": [
    "def parse(text, nlp=None, **kwargs):\n",
    "    if nlp is None:\n",
    "        nlp = StanfordCoreNLP(r'./stanford-corenlp-full-2018-10-05')\n",
    "\n",
    "    #text = (text.encode('ascii', 'ignore')).decode(\"utf-8\")\n",
    "    implemented_annotators = {'parse', 'depparse'}\n",
    "    if 'annotator' in kwargs and kwargs['annotator'] in implemented_annotators:\n",
    "        annotator = kwargs['annotator']\n",
    "    else:\n",
    "        annotator = 'parse'\n",
    "    #try:\n",
    "    try:\n",
    "        props={'annotators': annotator,'outputFormat':'json'}\n",
    "        output = nlp.annotate(text, properties=props)\n",
    "    except Exception as e:\n",
    "        print(\"Exception during parsing!!\")\n",
    "        print(e)\n",
    "        if annotator == 'parse':\n",
    "            return \"(S)\"\n",
    "        elif annotator == 'depparse':\n",
    "            return \"(ROOT)\"\n",
    "\n",
    "    outputD = ast.literal_eval(output)\n",
    "    sentences = outputD['sentences']\n",
    "\n",
    "    if annotator == 'parse':\n",
    "        if len(sentences) <= 1:\n",
    "            root = sentences[0]['parse'].strip('\\n')\n",
    "            root = root.split(' ',1)[1]\n",
    "            root = root[1:len(root)-1]\n",
    "        else:\n",
    "            s1 = sentences[0]['parse'].strip('\\n')\n",
    "            s1 = s1.split(' ', 1)[1]\n",
    "            s1 = s1[1:len(s1)-1]\n",
    "            root = \"(S\" + s1\n",
    "            for sentence in sentences[1:]: # not sure if there can be multiple items here. If so, it just returns the first one currently.\n",
    "                s2 = sentence['parse'].strip('\\n')\n",
    "                s2 = s2.split(' ', 1)[1]\n",
    "                s2 = s2[1:len(s2)-1]\n",
    "                root = root + s2\n",
    "            root = root + \")\"\n",
    "\n",
    "        return root.replace(\"\\n\", \"\")\n",
    "\n",
    "    if annotator == 'depparse':\n",
    "\n",
    "        trees = []\n",
    "        for i in range(len(sentences)):\n",
    "            dependencies = sentences[i]['basicDependencies']\n",
    "            tokens = [token['index'] for token in sentences[i]['tokens']]\n",
    "            for d in dependencies:\n",
    "                print(d)\n",
    "\n",
    "            parsing = ParseDependencies(dependencies, tokens)\n",
    "            tree = parsing.visit(root=0)\n",
    "            trees.append(str(tree))\n",
    "\n",
    "        if len(sentences) == 1:\n",
    "            return trees[0]\n",
    "        else:\n",
    "            return \"(ROOT1 \" + \" \".join(trees) + \")\"\n",
    "\n",
    "\n",
    "\"\"\"except Exception as e:\n",
    "    print(e)\n",
    "    print(\"Except\")\n",
    "    if annotator == 'parse':\n",
    "        return \"(S)\"\n",
    "    elif annotator == 'depparse':\n",
    "        return \"(ROOT)\"\"\"\n",
    "\n",
    "\n",
    "class ParseDependencies:\n",
    "    def __init__(self, dependencies, tokens_ids):\n",
    "        self.dependencies = dependencies\n",
    "        self.tokens_ids = tokens_ids\n",
    "\n",
    "        self.nodes = self._nodes()\n",
    "        self.adj = self._adj()\n",
    "\n",
    "    def _find_dependency(self, idx):\n",
    "        for d in self.dependencies:\n",
    "            if d[\"dependent\"] == idx: # TODO one root per word\n",
    "                return {\"label\": d[\"dep\"], \"token\": d[\"dependentGloss\"]}\n",
    "\n",
    "\n",
    "    def _nodes(self):\n",
    "        nodes = {}\n",
    "        for idx in self.tokens_ids:\n",
    "            nodes[idx] = self._find_dependency(idx)\n",
    "        return nodes\n",
    "\n",
    "    def _adj(self):\n",
    "        adj = {}\n",
    "        for token in [0] + self.tokens_ids:\n",
    "            adj[token] = [dep[\"dependent\"] for dep in self.dependencies if dep[\"governor\"] == token]\n",
    "        return adj\n",
    "\n",
    "    def visit(self, root) -> Tree:\n",
    "        if root in self.nodes:\n",
    "            tree = Tree(root=self.nodes[root]['label'], children=[Tree(root=self.nodes[root]['token'])])\n",
    "            for child in self.adj[root]:\n",
    "                tree.children.append(self.visit(child))\n",
    "\n",
    "        else: # Fake Root token avoided\n",
    "            child = self.adj[root][0]\n",
    "            tree = self.visit(child)\n",
    "\n",
    "        return tree"
   ],
   "metadata": {
    "collapsed": false
   }
  },
  {
   "cell_type": "code",
   "execution_count": 63,
   "outputs": [
    {
     "name": "stdout",
     "output_type": "stream",
     "text": [
      "{'dep': 'ROOT', 'governor': 0, 'governorGloss': 'ROOT', 'dependent': 6, 'dependentGloss': 'table'}\n",
      "{'dep': 'det', 'governor': 2, 'governorGloss': 'cat', 'dependent': 1, 'dependentGloss': 'The'}\n",
      "{'dep': 'nsubj', 'governor': 6, 'governorGloss': 'table', 'dependent': 2, 'dependentGloss': 'cat'}\n",
      "{'dep': 'cop', 'governor': 6, 'governorGloss': 'table', 'dependent': 3, 'dependentGloss': 'is'}\n",
      "{'dep': 'case', 'governor': 6, 'governorGloss': 'table', 'dependent': 4, 'dependentGloss': 'on'}\n",
      "{'dep': 'det', 'governor': 6, 'governorGloss': 'table', 'dependent': 5, 'dependentGloss': 'the'}\n",
      "\n",
      "(ROOT table (nsubj cat (det The)) (cop is) (case on) (det the))\n",
      "\n",
      "(nsubj (det The))\n",
      "\t (det The)\n",
      "(cop is)\n",
      "\t is\n",
      "(case on)\n",
      "\t on\n",
      "(det the)\n",
      "\t the\n",
      "\n",
      "                ROOT             \n",
      "   ______________|_____________   \n",
      "  |       nsubj       |   |    | \n",
      "  |     ____|____     |   |    |  \n",
      "  |    |        det  cop case det\n",
      "  |    |         |    |   |    |  \n",
      "table cat       The   is  on  the\n",
      "\n"
     ]
    }
   ],
   "source": [
    "text = \"The cat is on the table\"\n",
    "tree_str = parse(text, nlp=nlp, annotator='depparse')\n",
    "print()\n",
    "print(tree_str)\n",
    "\n",
    "print()\n",
    "t = Tree(string=tree_str)\n",
    "for c in t.children:\n",
    "    print(c)\n",
    "    for cc in c.children:\n",
    "        print('\\t', cc)\n",
    "\n",
    "print()\n",
    "nlt = tree.Tree.fromstring(tree_str)\n",
    "nlt.pretty_print()"
   ],
   "metadata": {
    "collapsed": false
   }
  },
  {
   "cell_type": "code",
   "execution_count": 64,
   "outputs": [
    {
     "name": "stdout",
     "output_type": "stream",
     "text": [
      "{'dep': 'ROOT', 'governor': 0, 'governorGloss': 'ROOT', 'dependent': 3, 'dependentGloss': 'sleeps'}\n",
      "{'dep': 'det', 'governor': 2, 'governorGloss': 'cat', 'dependent': 1, 'dependentGloss': 'The'}\n",
      "{'dep': 'nsubj', 'governor': 3, 'governorGloss': 'sleeps', 'dependent': 2, 'dependentGloss': 'cat'}\n",
      "{'dep': 'case', 'governor': 6, 'governorGloss': 'table', 'dependent': 4, 'dependentGloss': 'on'}\n",
      "{'dep': 'det', 'governor': 6, 'governorGloss': 'table', 'dependent': 5, 'dependentGloss': 'the'}\n",
      "{'dep': 'nmod', 'governor': 3, 'governorGloss': 'sleeps', 'dependent': 6, 'dependentGloss': 'table'}\n",
      "\n",
      "(ROOT sleeps (nsubj cat (det The)) (nmod table (case on) (det the)))\n",
      "\n",
      "(nsubj (det The))\n",
      "(nmod (case on) (det the))\n",
      "\n",
      "                 ROOT               \n",
      "   _______________|__________        \n",
      "  |        nsubj            nmod    \n",
      "  |      ____|____       ____|____   \n",
      "  |     |        det    |   case det\n",
      "  |     |         |     |    |    |  \n",
      "sleeps cat       The  table  on  the\n",
      "\n"
     ]
    }
   ],
   "source": [
    "text = \"The cat sleeps on the table\"\n",
    "tree_str = parse(text, nlp=nlp, annotator='depparse')\n",
    "print()\n",
    "print(tree_str)\n",
    "\n",
    "print()\n",
    "t = Tree(string=tree_str)\n",
    "for c in t.children:\n",
    "    print(c)\n",
    "\n",
    "print()\n",
    "nlt = tree.Tree.fromstring(tree_str)\n",
    "nlt.pretty_print()"
   ],
   "metadata": {
    "collapsed": false
   }
  },
  {
   "cell_type": "code",
   "execution_count": 65,
   "outputs": [
    {
     "name": "stdout",
     "output_type": "stream",
     "text": [
      "{'dep': 'ROOT', 'governor': 0, 'governorGloss': 'ROOT', 'dependent': 7, 'dependentGloss': 'moving'}\n",
      "{'dep': 'det', 'governor': 2, 'governorGloss': 'time', 'dependent': 1, 'dependentGloss': 'This'}\n",
      "{'dep': 'nmod:tmod', 'governor': 7, 'governorGloss': 'moving', 'dependent': 2, 'dependentGloss': 'time'}\n",
      "{'dep': 'advmod', 'governor': 2, 'governorGloss': 'time', 'dependent': 3, 'dependentGloss': 'around'}\n",
      "{'dep': 'punct', 'governor': 7, 'governorGloss': 'moving', 'dependent': 4, 'dependentGloss': ','}\n",
      "{'dep': 'nsubj', 'governor': 7, 'governorGloss': 'moving', 'dependent': 5, 'dependentGloss': 'they'}\n",
      "{'dep': 'aux', 'governor': 7, 'governorGloss': 'moving', 'dependent': 6, 'dependentGloss': \"'re\"}\n",
      "{'dep': 'advmod', 'governor': 9, 'governorGloss': 'faster', 'dependent': 8, 'dependentGloss': 'even'}\n",
      "{'dep': 'advmod', 'governor': 7, 'governorGloss': 'moving', 'dependent': 9, 'dependentGloss': 'faster'}\n",
      "{'dep': 'punct', 'governor': 7, 'governorGloss': 'moving', 'dependent': 10, 'dependentGloss': '.'}\n",
      "\n",
      "(ROOT moving (nmod:tmod time (det This) (advmod around)) (punct ,) (nsubj they) (aux 're) (advmod faster (advmod even)) (punct .))\n",
      "\n",
      "(nmod:tmod (det This) (advmod around))\n",
      "(punct ,)\n",
      "(nsubj they)\n",
      "(aux 're)\n",
      "(advmod (advmod even))\n",
      "(punct .)\n",
      "\n",
      "                              ROOT                                     \n",
      "   ____________________________|____________________________________    \n",
      "  |         nmod:tmod          |     |    |         advmod          |  \n",
      "  |      _______|_______       |     |    |     ______|______       |   \n",
      "  |     |      det    advmod punct nsubj aux   |           advmod punct\n",
      "  |     |       |       |      |     |    |    |             |      |   \n",
      "moving time    This   around   ,    they 're faster         even    .  \n",
      "\n"
     ]
    }
   ],
   "source": [
    "text = \"This time around, they're moving even faster.\"\n",
    "tree_str = parse(text, nlp=nlp, annotator='depparse')\n",
    "print()\n",
    "print(tree_str)\n",
    "\n",
    "print()\n",
    "t = Tree(string=tree_str)\n",
    "for c in t.children:\n",
    "    print(c)\n",
    "\n",
    "print()\n",
    "nlt = tree.Tree.fromstring(tree_str)\n",
    "nlt.pretty_print()"
   ],
   "metadata": {
    "collapsed": false
   }
  },
  {
   "cell_type": "code",
   "execution_count": null,
   "outputs": [],
   "source": [],
   "metadata": {
    "collapsed": false
   }
  }
 ],
 "metadata": {
  "kernelspec": {
   "display_name": "Python 3",
   "language": "python",
   "name": "python3"
  },
  "language_info": {
   "codemirror_mode": {
    "name": "ipython",
    "version": 2
   },
   "file_extension": ".py",
   "mimetype": "text/x-python",
   "name": "python",
   "nbconvert_exporter": "python",
   "pygments_lexer": "ipython2",
   "version": "2.7.6"
  }
 },
 "nbformat": 4,
 "nbformat_minor": 0
}
