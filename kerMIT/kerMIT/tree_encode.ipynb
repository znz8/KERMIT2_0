{
 "cells": [
  {
   "cell_type": "code",
   "execution_count": 1,
   "metadata": {
    "collapsed": true
   },
   "outputs": [],
   "source": [
    "import pandas as pd\n",
    "import numpy as np\n",
    "from kerMIT.tree import Tree\n",
    "from stanfordcorenlp import StanfordCoreNLP\n",
    "import ast\n",
    "import time"
   ]
  },
  {
   "cell_type": "code",
   "execution_count": 2,
   "outputs": [],
   "source": [
    "from nltk import tree"
   ],
   "metadata": {
    "collapsed": false
   }
  },
  {
   "cell_type": "code",
   "execution_count": 3,
   "outputs": [],
   "source": [
    "nlp = StanfordCoreNLP('/stanford-corenlp-full-2018-10-05')"
   ],
   "metadata": {
    "collapsed": false
   }
  },
  {
   "cell_type": "code",
   "execution_count": 4,
   "outputs": [],
   "source": [
    "def parse(text, nlp=None, **kwargs):\n",
    "    if nlp is None:\n",
    "        nlp = StanfordCoreNLP(r'./stanford-corenlp-full-2018-10-05')\n",
    "\n",
    "    #text = (text.encode('ascii', 'ignore')).decode(\"utf-8\")\n",
    "    implemented_annotators = {'parse', 'depparse'}\n",
    "    if 'annotator' in kwargs and kwargs['annotator'] in implemented_annotators:\n",
    "        annotator = kwargs['annotator']\n",
    "    else:\n",
    "        annotator = 'parse'\n",
    "    #try:\n",
    "    try:\n",
    "        props={'annotators': annotator,'outputFormat':'json'}\n",
    "        output = nlp.annotate(text, properties=props)\n",
    "    except Exception as e:\n",
    "        print(\"Exception during parsing!!\")\n",
    "        print(e)\n",
    "        if annotator == 'parse':\n",
    "            return \"(S)\"\n",
    "        elif annotator == 'depparse':\n",
    "            return \"(ROOT)\"\n",
    "\n",
    "    outputD = ast.literal_eval(output)\n",
    "    sentences = outputD['sentences']\n",
    "\n",
    "    if annotator == 'parse':\n",
    "        if len(sentences) <= 1:\n",
    "            root = sentences[0]['parse'].strip('\\n')\n",
    "            root = root.split(' ',1)[1]\n",
    "            root = root[1:len(root)-1]\n",
    "        else:\n",
    "            s1 = sentences[0]['parse'].strip('\\n')\n",
    "            s1 = s1.split(' ', 1)[1]\n",
    "            s1 = s1[1:len(s1)-1]\n",
    "            root = \"(S\" + s1\n",
    "            for sentence in sentences[1:]: # not sure if there can be multiple items here. If so, it just returns the first one currently.\n",
    "                s2 = sentence['parse'].strip('\\n')\n",
    "                s2 = s2.split(' ', 1)[1]\n",
    "                s2 = s2[1:len(s2)-1]\n",
    "                root = root + s2\n",
    "            root = root + \")\"\n",
    "\n",
    "        return root.replace(\"\\n\", \"\")\n",
    "\n",
    "    if annotator == 'depparse':\n",
    "        trees = []\n",
    "        for i in range(len(sentences)):\n",
    "            dependencies = sentences[i]['basicDependencies']\n",
    "            tokens = sentences[i]['tokens']\n",
    "\n",
    "            for d in dependencies:\n",
    "                print(d)\n",
    "\n",
    "            pos_tags = False\n",
    "            if 'pos_tags' in kwargs:\n",
    "                pos_tags=kwargs['pos_tags']\n",
    "\n",
    "            root = min([d['governor'] for d in dependencies])\n",
    "            parsing = ParseDependencies(root, dependencies, tokens, pos_tags=pos_tags)\n",
    "            tree = parsing.tree()\n",
    "            trees.append(tree)\n",
    "\n",
    "        if len(sentences) == 1:\n",
    "            return str(trees[0])\n",
    "        else:\n",
    "            return str(Tree(root=\"ROOT\", children=trees))\n",
    "\n",
    "\n",
    "\"\"\"except Exception as e:\n",
    "    print(e)\n",
    "    print(\"Except\")\n",
    "    if annotator == 'parse':\n",
    "        return \"(S)\"\n",
    "    elif annotator == 'depparse':\n",
    "        return \"(ROOT)\"\"\"\n",
    "\n",
    "class ParseDependencies:\n",
    "    def __init__(self, root, dependencies, tokens, **kwargs):\n",
    "        self.dependencies = dependencies\n",
    "        self.tokens = {token[\"index\"]: token for token in tokens}\n",
    "        self.root = root\n",
    "\n",
    "        self._pos_tags = False\n",
    "        if \"pos_tags\" in kwargs:\n",
    "            self._pos_tags = kwargs[\"pos_tags\"]\n",
    "\n",
    "        self.nodes = self._nodes()\n",
    "        self.adj = self._adj()\n",
    "\n",
    "    def _find_dependency(self, idx):\n",
    "        for d in self.dependencies:\n",
    "            if d[\"dependent\"] == idx: # TODO one root per word\n",
    "                return {\"label\": d[\"dep\"], \"token\": d[\"dependentGloss\"]}\n",
    "\n",
    "\n",
    "    def _nodes(self):\n",
    "        nodes = {}\n",
    "        for idx in self.tokens:\n",
    "            nodes[idx] = self._find_dependency(idx)\n",
    "            if self._pos_tags:\n",
    "                nodes[idx][\"pos\"] = self.tokens[idx]['pos']\n",
    "        return nodes\n",
    "\n",
    "    def _adj(self):\n",
    "        children = sorted([dep for dep in self.dependencies if dep[\"governor\"] == self.root], key=lambda dep: dep['dep'])\n",
    "        adj = {self.root: [dep[\"dependent\"] for dep in children]}\n",
    "        for token in self.tokens:\n",
    "            children = sorted([dep for dep in self.dependencies if dep[\"governor\"] == token], key=lambda dep: dep['dep'])\n",
    "            adj[token] = [dep[\"dependent\"] for dep in children]\n",
    "        return adj\n",
    "\n",
    "    def to_str(self):\n",
    "        return str(self.tree())\n",
    "\n",
    "    def tree(self) -> Tree:\n",
    "        return self._rec_visit(self.root)\n",
    "\n",
    "    def _rec_visit(self, root):\n",
    "        if root in self.nodes:\n",
    "            if not self._pos_tags:\n",
    "                tree = Tree(root=self.nodes[root]['label'], children=[Tree(root=self.nodes[root]['token'])])\n",
    "            else:\n",
    "                tree = Tree(root=self.nodes[root]['label'], children=[Tree(root=self.nodes[root]['pos'],\n",
    "                                                                           children=[Tree(root=self.nodes[root]['token'])])\n",
    "                                                                      ]\n",
    "                            )\n",
    "            for child in self.adj[root]:\n",
    "                tree.children.append(self._rec_visit(child))\n",
    "\n",
    "        else:\n",
    "            if root == self.root:\n",
    "                child = self.adj[root][0]\n",
    "                tree = self._rec_visit(child)\n",
    "            else:\n",
    "                raise Exception(f\"Unkown node {root}\")\n",
    "        return tree"
   ],
   "metadata": {
    "collapsed": false
   }
  },
  {
   "cell_type": "code",
   "execution_count": 5,
   "outputs": [],
   "source": [
    "def test(text, nlp):\n",
    "    tree_str = parse(text, nlp=nlp, annotator='depparse')\n",
    "    print()\n",
    "    print(tree_str)\n",
    "\n",
    "    print()\n",
    "    t = Tree(string=tree_str)\n",
    "    print(t)\n",
    "    for c in t.children:\n",
    "        print(c)\n",
    "\n",
    "    print()\n",
    "    nlt = tree.Tree.fromstring(tree_str)\n",
    "    nlt.pretty_print()"
   ],
   "metadata": {
    "collapsed": false
   }
  },
  {
   "cell_type": "code",
   "execution_count": 6,
   "outputs": [
    {
     "name": "stdout",
     "output_type": "stream",
     "text": [
      "{'dep': 'ROOT', 'governor': 0, 'governorGloss': 'ROOT', 'dependent': 6, 'dependentGloss': 'table'}\n",
      "{'dep': 'det', 'governor': 2, 'governorGloss': 'cat', 'dependent': 1, 'dependentGloss': 'The'}\n",
      "{'dep': 'nsubj', 'governor': 6, 'governorGloss': 'table', 'dependent': 2, 'dependentGloss': 'cat'}\n",
      "{'dep': 'cop', 'governor': 6, 'governorGloss': 'table', 'dependent': 3, 'dependentGloss': 'is'}\n",
      "{'dep': 'case', 'governor': 6, 'governorGloss': 'table', 'dependent': 4, 'dependentGloss': 'on'}\n",
      "{'dep': 'det', 'governor': 6, 'governorGloss': 'table', 'dependent': 5, 'dependentGloss': 'the'}\n",
      "\n",
      "(ROOT table (case on) (cop is) (det the) (nsubj cat (det The)))\n",
      "\n",
      "(ROOT table (case on) (cop is) (det the) (nsubj cat (det The)))\n",
      "table\n",
      "(case on)\n",
      "(cop is)\n",
      "(det the)\n",
      "(nsubj cat (det The))\n",
      "\n",
      "           ROOT                  \n",
      "   _________|_____________        \n",
      "  |    |    |    |      nsubj    \n",
      "  |    |    |    |    ____|____   \n",
      "  |   case cop  det  |        det\n",
      "  |    |    |    |   |         |  \n",
      "table  on   is  the cat       The\n",
      "\n"
     ]
    }
   ],
   "source": [
    "text = \"The cat is on the table\"\n",
    "test(text, nlp)"
   ],
   "metadata": {
    "collapsed": false
   }
  },
  {
   "cell_type": "code",
   "execution_count": 7,
   "outputs": [
    {
     "name": "stdout",
     "output_type": "stream",
     "text": [
      "{'dep': 'ROOT', 'governor': 0, 'governorGloss': 'ROOT', 'dependent': 3, 'dependentGloss': 'sleeps'}\n",
      "{'dep': 'det', 'governor': 2, 'governorGloss': 'cat', 'dependent': 1, 'dependentGloss': 'The'}\n",
      "{'dep': 'nsubj', 'governor': 3, 'governorGloss': 'sleeps', 'dependent': 2, 'dependentGloss': 'cat'}\n",
      "{'dep': 'case', 'governor': 6, 'governorGloss': 'table', 'dependent': 4, 'dependentGloss': 'on'}\n",
      "{'dep': 'det', 'governor': 6, 'governorGloss': 'table', 'dependent': 5, 'dependentGloss': 'the'}\n",
      "{'dep': 'nmod', 'governor': 3, 'governorGloss': 'sleeps', 'dependent': 6, 'dependentGloss': 'table'}\n",
      "\n",
      "(ROOT sleeps (nmod table (case on) (det the)) (nsubj cat (det The)))\n",
      "\n",
      "(ROOT sleeps (nmod table (case on) (det the)) (nsubj cat (det The)))\n",
      "sleeps\n",
      "(nmod table (case on) (det the))\n",
      "(nsubj cat (det The))\n",
      "\n",
      "             ROOT                  \n",
      "   ___________|_____________        \n",
      "  |          nmod         nsubj    \n",
      "  |       ____|____     ____|____   \n",
      "  |      |   case det  |        det\n",
      "  |      |    |    |   |         |  \n",
      "sleeps table  on  the cat       The\n",
      "\n"
     ]
    }
   ],
   "source": [
    "text = \"The cat sleeps on the table\"\n",
    "test(text, nlp)"
   ],
   "metadata": {
    "collapsed": false
   }
  },
  {
   "cell_type": "code",
   "execution_count": 8,
   "outputs": [
    {
     "name": "stdout",
     "output_type": "stream",
     "text": [
      "{'dep': 'ROOT', 'governor': 0, 'governorGloss': 'ROOT', 'dependent': 7, 'dependentGloss': 'moving'}\n",
      "{'dep': 'det', 'governor': 2, 'governorGloss': 'time', 'dependent': 1, 'dependentGloss': 'This'}\n",
      "{'dep': 'nmod:tmod', 'governor': 7, 'governorGloss': 'moving', 'dependent': 2, 'dependentGloss': 'time'}\n",
      "{'dep': 'advmod', 'governor': 2, 'governorGloss': 'time', 'dependent': 3, 'dependentGloss': 'around'}\n",
      "{'dep': 'punct', 'governor': 7, 'governorGloss': 'moving', 'dependent': 4, 'dependentGloss': ','}\n",
      "{'dep': 'nsubj', 'governor': 7, 'governorGloss': 'moving', 'dependent': 5, 'dependentGloss': 'they'}\n",
      "{'dep': 'aux', 'governor': 7, 'governorGloss': 'moving', 'dependent': 6, 'dependentGloss': \"'re\"}\n",
      "{'dep': 'advmod', 'governor': 9, 'governorGloss': 'faster', 'dependent': 8, 'dependentGloss': 'even'}\n",
      "{'dep': 'advmod', 'governor': 7, 'governorGloss': 'moving', 'dependent': 9, 'dependentGloss': 'faster'}\n",
      "{'dep': 'punct', 'governor': 7, 'governorGloss': 'moving', 'dependent': 10, 'dependentGloss': '.'}\n",
      "\n",
      "(ROOT moving (advmod faster (advmod even)) (aux 're) (nmod:tmod time (advmod around) (det This)) (nsubj they) (punct ,) (punct .))\n",
      "\n",
      "(ROOT moving (advmod faster (advmod even)) (aux 're) (nmod:tmod time (advmod around) (det This)) (nsubj they) (punct ,) (punct .))\n",
      "moving\n",
      "(advmod faster (advmod even))\n",
      "(aux 're)\n",
      "(nmod:tmod time (advmod around) (det This))\n",
      "(nsubj they)\n",
      "(punct ,)\n",
      "(punct .)\n",
      "\n",
      "                                ROOT                                 \n",
      "   ______________________________|________________________________    \n",
      "  |           advmod         |       nmod:tmod        |     |     |  \n",
      "  |       ______|______      |    _______|______      |     |     |   \n",
      "  |      |           advmod aux  |     advmod  det  nsubj punct punct\n",
      "  |      |             |     |   |       |      |     |     |     |   \n",
      "moving faster         even  're time   around  This  they   ,     .  \n",
      "\n"
     ]
    }
   ],
   "source": [
    "text = \"This time around, they're moving even faster.\"\n",
    "test(text, nlp)"
   ],
   "metadata": {
    "collapsed": false
   }
  },
  {
   "cell_type": "code",
   "execution_count": 8,
   "outputs": [],
   "source": [],
   "metadata": {
    "collapsed": false
   }
  }
 ],
 "metadata": {
  "kernelspec": {
   "display_name": "Python 3",
   "language": "python",
   "name": "python3"
  },
  "language_info": {
   "codemirror_mode": {
    "name": "ipython",
    "version": 2
   },
   "file_extension": ".py",
   "mimetype": "text/x-python",
   "name": "python",
   "nbconvert_exporter": "python",
   "pygments_lexer": "ipython2",
   "version": "2.7.6"
  }
 },
 "nbformat": 4,
 "nbformat_minor": 0
}
